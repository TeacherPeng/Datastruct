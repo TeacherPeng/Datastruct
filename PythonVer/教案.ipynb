{
 "cells": [
  {
   "cell_type": "code",
   "execution_count": 4,
   "metadata": {},
   "outputs": [
    {
     "name": "stdout",
     "output_type": "stream",
     "text": [
      "数值加法：x + x =  2.4\n",
      "字符串加法：s + s =  1.21.2\n"
     ]
    }
   ],
   "source": [
    "#数值类型和字符串类型\n",
    "s = input('x=?')\n",
    "x = float(s)\n",
    "print('数值加法：x + x = ', x + x)\n",
    "print('字符串加法：s + s = ', s + s)"
   ]
  },
  {
   "cell_type": "code",
   "execution_count": 1,
   "metadata": {},
   "outputs": [
    {
     "name": "stdout",
     "output_type": "stream",
     "text": [
      "x= 20 , y= 10\n"
     ]
    }
   ],
   "source": [
    "#变量的意义：装数据的容器\n",
    "x = 10\n",
    "y = 20\n",
    "z = x\n",
    "x = y\n",
    "y = z\n",
    "print('x=', x, ', y=', y)"
   ]
  },
  {
   "cell_type": "code",
   "execution_count": 1,
   "metadata": {},
   "outputs": [
    {
     "name": "stdout",
     "output_type": "stream",
     "text": [
      "x= 20 , y= 10\n"
     ]
    }
   ],
   "source": [
    "#变量的意义：装数据的容器\n",
    "x = 10\n",
    "y = 20\n",
    "x += y\n",
    "y = x - y\n",
    "x = x - y\n",
    "print('x=', x, ', y=', y)"
   ]
  },
  {
   "cell_type": "code",
   "execution_count": 4,
   "metadata": {},
   "outputs": [
    {
     "name": "stdout",
     "output_type": "stream",
     "text": [
      "A[0] is  a\n",
      "A[1] is  e\n",
      "A[-1] is  u\n",
      "A[-1] is  o\n"
     ]
    }
   ],
   "source": [
    "#列表的定义与元素访问\n",
    "A = ['a', 'e', 'i', 'o', 'u']\n",
    "print('A[0] is ', A[0])\n",
    "print('A[1] is ', A[1])\n",
    "print('A[-1] is ', A[-1])\n",
    "print('A[-1] is ', A[-2])"
   ]
  },
  {
   "cell_type": "code",
   "execution_count": 4,
   "metadata": {},
   "outputs": [
    {
     "name": "stdout",
     "output_type": "stream",
     "text": [
      "共有 8 个成绩。\n"
     ]
    }
   ],
   "source": [
    "#列表的定义和列表长度\n",
    "A = [67, 75, 44, 82, 99, 82, 55, 83]\n",
    "print('共有', len(A), '个成绩。')"
   ]
  },
  {
   "cell_type": "code",
   "execution_count": 6,
   "metadata": {},
   "outputs": [
    {
     "name": "stdout",
     "output_type": "stream",
     "text": [
      "58 属于不及格。\n"
     ]
    }
   ],
   "source": [
    "#条件判断\n",
    "a = int(input('a=?'))\n",
    "if a < 60:\n",
    "    print(a, '属于不及格。')\n",
    "else:\n",
    "    print(a, '及格了。')"
   ]
  },
  {
   "cell_type": "code",
   "execution_count": 9,
   "metadata": {},
   "outputs": [
    {
     "name": "stdout",
     "output_type": "stream",
     "text": [
      "0\n",
      "1\n",
      "2\n",
      "3\n",
      "4\n",
      "5\n",
      "6\n",
      "7\n"
     ]
    }
   ],
   "source": [
    "#用range生成编号序列\n",
    "for i in range(len(A)):\n",
    "    print(i)"
   ]
  },
  {
   "cell_type": "code",
   "execution_count": 10,
   "metadata": {},
   "outputs": [
    {
     "name": "stdout",
     "output_type": "stream",
     "text": [
      "67\n",
      "75\n",
      "44\n",
      "82\n",
      "99\n",
      "82\n",
      "55\n",
      "83\n"
     ]
    }
   ],
   "source": [
    "#按序号遍历列表\n",
    "A = [67, 75, 44, 82, 99, 82, 55, 83]\n",
    "for i in range(len(A)):\n",
    "    print(A[i])"
   ]
  },
  {
   "cell_type": "code",
   "execution_count": 7,
   "metadata": {},
   "outputs": [
    {
     "name": "stdout",
     "output_type": "stream",
     "text": [
      "67\n",
      "75\n",
      "44\n",
      "82\n",
      "99\n",
      "82\n",
      "55\n",
      "83\n",
      "[67, 75, 44, 82, 99, 82, 55, 83]\n"
     ]
    }
   ],
   "source": [
    "#直接遍历\n",
    "A = [67, 75, 44, 82, 99, 82, 55, 83]\n",
    "for a in A:\n",
    "    print(a)\n",
    "print(A)"
   ]
  },
  {
   "cell_type": "code",
   "execution_count": 12,
   "metadata": {},
   "outputs": [
    {
     "name": "stdout",
     "output_type": "stream",
     "text": [
      "及格 6 人，不及格 2 人\n"
     ]
    }
   ],
   "source": [
    "#遍历并处理\n",
    "A = [67, 75, 44, 82, 99, 82, 55, 83]\n",
    "pass_count = 0\n",
    "fail_count = 0\n",
    "for a in A:\n",
    "    if a < 60:\n",
    "        fail_count = fail_count + 1\n",
    "    else:\n",
    "        pass_count += 1\n",
    "print('及格', pass_count, '人，不及格', fail_count, '人')"
   ]
  },
  {
   "cell_type": "code",
   "execution_count": 13,
   "metadata": {},
   "outputs": [
    {
     "name": "stdout",
     "output_type": "stream",
     "text": [
      "第一个不及格的成绩为 44\n"
     ]
    }
   ],
   "source": [
    "#循环\n",
    "A = [67, 75, 44, 82, 99, 82, 55, 83]\n",
    "index = 0\n",
    "while index < len(A):\n",
    "    if A[index] < 60:\n",
    "        print('列表中第一个不及格的成绩为', A[index])\n",
    "        break\n",
    "    index += 1"
   ]
  },
  {
   "cell_type": "code",
   "execution_count": 1,
   "metadata": {},
   "outputs": [
    {
     "name": "stdout",
     "output_type": "stream",
     "text": [
      "[67, 75, 44, 82, 99, 82, 55, 83]\n",
      "[67, 75, 44, 82, 99, 82, 55, 83, 25]\n"
     ]
    }
   ],
   "source": [
    "#向列表中加入元素\n",
    "A = [67, 75, 44, 82, 99, 82, 55, 83]\n",
    "print(A)\n",
    "A.append(25)\n",
    "print(A)"
   ]
  },
  {
   "cell_type": "code",
   "execution_count": 2,
   "metadata": {},
   "outputs": [
    {
     "name": "stdout",
     "output_type": "stream",
     "text": [
      "[67, 75, 44, 82, 99, 82, 55, 83]\n",
      "[67, 75, 44, 100, 82, 99, 82, 55, 83]\n"
     ]
    }
   ],
   "source": [
    "#向列表中加入元素\n",
    "A = [67, 75, 44, 82, 99, 82, 55, 83]\n",
    "print(A)\n",
    "A.insert(3, 100)\n",
    "print(A)"
   ]
  },
  {
   "cell_type": "code",
   "execution_count": 5,
   "metadata": {},
   "outputs": [
    {
     "name": "stdout",
     "output_type": "stream",
     "text": [
      "[67, 75, 44, 82, 99, 82, 55, 83]\n",
      "83\n",
      "[67, 75, 44, 82, 99, 82, 55]\n",
      "44\n",
      "[67, 75, 82, 99, 82, 55]\n"
     ]
    }
   ],
   "source": [
    "#删除列表中的元素\n",
    "A = [67, 75, 44, 82, 99, 82, 55, 83]\n",
    "print(A)\n",
    "print(A.pop())\n",
    "print(A)\n",
    "print(A.pop(2))\n",
    "print(A)"
   ]
  },
  {
   "cell_type": "code",
   "execution_count": 4,
   "metadata": {},
   "outputs": [
    {
     "name": "stdout",
     "output_type": "stream",
     "text": [
      "[67, 75, 44, 82, 99, 82, 55, 83]\n",
      "[67, 75, 82, 99, 82, 55, 83]\n"
     ]
    }
   ],
   "source": [
    "#删除列表中的元素\n",
    "A = [67, 75, 44, 82, 99, 82, 55, 83]\n",
    "print(A)\n",
    "A.remove(44)\n",
    "print(A)"
   ]
  },
  {
   "cell_type": "code",
   "execution_count": 8,
   "metadata": {},
   "outputs": [],
   "source": [
    "#拓展：处理图像数据————二维数组\n",
    "from PIL import Image\n",
    "image = Image.open('E:/Pictures/2021.jpg')\n",
    "image.show()\n",
    "\n",
    "pixels = image.load()\n",
    "width, height = image.size\n",
    "\n",
    "for y in range(height):\n",
    "    for x in range(width):\n",
    "        # 获取每个像素点的RGB值\n",
    "        r, g, b = pixels[x, y]\n",
    "\n",
    "        # 在这里对每个像素点的RGB进行处理。这里以将图像转为灰度图为例\n",
    "        grayscale_value = int(0.2989 * r + 0.5870 * g + 0.1140 * b)\n",
    "        pixels[x, y] = (grayscale_value, grayscale_value, grayscale_value)\n",
    "\n",
    "image.show()"
   ]
  },
  {
   "cell_type": "code",
   "execution_count": 10,
   "metadata": {},
   "outputs": [],
   "source": [
    "#拓展：处理图像数据————二维数组\n",
    "from PIL import Image\n",
    "image = Image.open('E:/Pictures/2021.jpg')\n",
    "width, height = image.size\n",
    "pixels = image.load()\n",
    "\n",
    "newimage = Image.new('RGB', (width // 2, height // 2))\n",
    "neww, newh = newimage.size\n",
    "newpixels = newimage.load()\n",
    "\n",
    "for y in range(newh):\n",
    "    for x in range(neww):\n",
    "        # 从原图中隔行隔列取像素填入新图中\n",
    "        newpixels[x, y] = pixels[x + x, y + y]\n",
    "\n",
    "image.show()\n",
    "newimage.show()"
   ]
  },
  {
   "cell_type": "code",
   "execution_count": 23,
   "metadata": {},
   "outputs": [
    {
     "name": "stdout",
     "output_type": "stream",
     "text": [
      "张三 成绩为 100\n",
      "李四 成绩为 90\n"
     ]
    }
   ],
   "source": [
    "#用class定义复合数据类型\n",
    "class Student:\n",
    "    def __init__(self, name, score):\n",
    "        self.Name = name\n",
    "        self.Score = score\n",
    "\n",
    "s1 = Student('张三', 100)\n",
    "s2 = Student('李四', 90)\n",
    "print(s1.Name, '成绩为', s1.Score)\n",
    "print(s2.Name, '成绩为', s2.Score)"
   ]
  },
  {
   "cell_type": "code",
   "execution_count": 4,
   "metadata": {},
   "outputs": [
    {
     "name": "stdout",
     "output_type": "stream",
     "text": [
      "No.0\n",
      "No.1\n",
      "No.2\n",
      "No.3\n",
      "No.4\n",
      "No.5\n",
      "No.6\n",
      "No.7\n",
      "No.8\n",
      "No.9\n"
     ]
    }
   ],
   "source": [
    "#用class定义链表\n",
    "class Node:\n",
    "    def __init__(self, name, score):\n",
    "        self.Name = name\n",
    "        self.Score = score\n",
    "        self.Next = None\n",
    "\n",
    "#向链表中追加结点\n",
    "head = Node('root', 100)\n",
    "p = head\n",
    "for i in range(10):\n",
    "    p.Next = Node('No.' + str(i), 0)\n",
    "    p = p.Next\n",
    "\n",
    "#遍历链表\n",
    "p = head\n",
    "while p.Next:\n",
    "    p = p.Next\n",
    "    print(p.Name)"
   ]
  },
  {
   "cell_type": "code",
   "execution_count": null,
   "metadata": {},
   "outputs": [],
   "source": [
    "#用class定义二叉树\n",
    "class BiNode:\n",
    "    def __init__(self, data):\n",
    "        self.data = data\n",
    "        self.lchild = None\n",
    "        self.rchild = None"
   ]
  },
  {
   "cell_type": "code",
   "execution_count": 6,
   "metadata": {},
   "outputs": [
    {
     "name": "stdout",
     "output_type": "stream",
     "text": [
      "\n",
      "   /-A\n",
      "--|\n",
      "  |   /-B\n",
      "   \\-|\n",
      "     |   /-E\n",
      "      \\-|\n",
      "         \\-D\n",
      "[Tree node 'A' (0x253ee1cd6d), Tree node '' (0x253ee1f0b9)]\n"
     ]
    }
   ],
   "source": [
    "#树形结构与ETE库\n",
    "from ete3 import Tree\n",
    "t = Tree(\"(A:1,(B:1,(E:1,D:1):0.5):0.5);\" )\n",
    "print(t)\n",
    "print(t.children)"
   ]
  },
  {
   "cell_type": "code",
   "execution_count": 11,
   "metadata": {},
   "outputs": [
    {
     "name": "stdout",
     "output_type": "stream",
     "text": [
      "\n",
      "A\n",
      "B\n",
      "D\n",
      "H\n",
      "K\n",
      "G\n",
      "F\n",
      "I\n",
      "E\n",
      "C\n",
      "J\n",
      "L\n",
      "O\n",
      "N\n",
      "Q\n",
      "M\n",
      "P\n",
      "S\n"
     ]
    }
   ],
   "source": [
    "#树的遍历\n",
    "# we load a tree\n",
    "t = Tree('((((H,K)D,(F,I)G)B,E)A,((L,(N,Q)O)J,(P,S)M)C);', format=1)\n",
    "\n",
    "for node in t.traverse(\"preorder\"): #postorder\n",
    "  # Do some analysis on node\n",
    "  print(node.name)"
   ]
  },
  {
   "cell_type": "code",
   "execution_count": null,
   "metadata": {},
   "outputs": [],
   "source": [
    "#图与NextX库\n"
   ]
  }
 ],
 "metadata": {
  "kernelspec": {
   "display_name": "Python 3",
   "language": "python",
   "name": "python3"
  },
  "language_info": {
   "codemirror_mode": {
    "name": "ipython",
    "version": 3
   },
   "file_extension": ".py",
   "mimetype": "text/x-python",
   "name": "python",
   "nbconvert_exporter": "python",
   "pygments_lexer": "ipython3",
   "version": "3.11.2"
  },
  "orig_nbformat": 4
 },
 "nbformat": 4,
 "nbformat_minor": 2
}
